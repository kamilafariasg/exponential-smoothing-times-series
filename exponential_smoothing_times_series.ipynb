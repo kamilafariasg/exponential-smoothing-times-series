{
  "nbformat": 4,
  "nbformat_minor": 0,
  "metadata": {
    "colab": {
      "name": "exponential-smoothing-times-series.ipynb",
      "provenance": [],
      "authorship_tag": "ABX9TyMqv3DOt7oMQVbPxhmzztLw",
      "include_colab_link": true
    },
    "kernelspec": {
      "name": "python3",
      "display_name": "Python 3"
    },
    "language_info": {
      "name": "python"
    }
  },
  "cells": [
    {
      "cell_type": "markdown",
      "metadata": {
        "id": "view-in-github",
        "colab_type": "text"
      },
      "source": [
        "<a href=\"https://colab.research.google.com/github/kamilafariasg/exponential-smoothing-times-series/blob/main/exponential_smoothing_times_series.ipynb\" target=\"_parent\"><img src=\"https://colab.research.google.com/assets/colab-badge.svg\" alt=\"Open In Colab\"/></a>"
      ]
    },
    {
      "cell_type": "markdown",
      "metadata": {
        "id": "KARux4eXlRgb"
      },
      "source": [
        "# **Análise temporal do preço de casas em Londres através de Exponential Smoothing**"
      ]
    },
    {
      "cell_type": "markdown",
      "metadata": {
        "id": "C4TZYoblIuYS"
      },
      "source": [
        "Os dados vão do ano de 1995 a 2020 e foram obtidos no Kaggle. "
      ]
    },
    {
      "cell_type": "markdown",
      "metadata": {
        "id": "TfEcnbbAler6"
      },
      "source": [
        "### **Importando Bibliotecas**"
      ]
    },
    {
      "cell_type": "code",
      "metadata": {
        "colab": {
          "base_uri": "https://localhost:8080/"
        },
        "id": "Upfi7qpzjKHn",
        "outputId": "28f9000f-8fe7-48c8-f75a-6667b1308dec"
      },
      "source": [
        "import pandas as pd\n",
        "import seaborn as sns\n",
        "import numpy as np\n",
        "import matplotlib.pyplot as plt\n",
        "from matplotlib.pyplot import figure\n",
        "from sklearn.metrics import mean_squared_error\n",
        "from sklearn.metrics import mean_absolute_error\n",
        "from math import sqrt\n",
        "%matplotlib inline \n",
        "from statsmodels.tsa.api import ExponentialSmoothing, SimpleExpSmoothing, Holt"
      ],
      "execution_count": 2,
      "outputs": [
        {
          "output_type": "stream",
          "text": [
            "/usr/local/lib/python3.7/dist-packages/statsmodels/tools/_testing.py:19: FutureWarning: pandas.util.testing is deprecated. Use the functions in the public API at pandas.testing instead.\n",
            "  import pandas.util.testing as tm\n"
          ],
          "name": "stderr"
        }
      ]
    },
    {
      "cell_type": "markdown",
      "metadata": {
        "id": "sViesBBmliwr"
      },
      "source": [
        "### **Preparando Drive para Ler Base de Dados**"
      ]
    },
    {
      "cell_type": "code",
      "metadata": {
        "colab": {
          "base_uri": "https://localhost:8080/"
        },
        "id": "hKwcKWx2lBes",
        "outputId": "b5f39a17-54ed-4970-e1a7-e660a3cb3f6d"
      },
      "source": [
        "#montando conexão com o Drive\n",
        "from google.colab import drive\n",
        "drive.mount('/content/drive')"
      ],
      "execution_count": 3,
      "outputs": [
        {
          "output_type": "stream",
          "text": [
            "Mounted at /content/drive\n"
          ],
          "name": "stdout"
        }
      ]
    },
    {
      "cell_type": "code",
      "metadata": {
        "colab": {
          "base_uri": "https://localhost:8080/"
        },
        "id": "qtfKMNGYlyw5",
        "outputId": "938d70f8-99cf-4c00-e6df-5bcb107e5cc4"
      },
      "source": [
        "#lendo base de dados\n",
        "df = pd.read_csv(\"/content/drive/My Drive/dataset/housing_in_london_monthly_variables.csv\")\n",
        "df.info()"
      ],
      "execution_count": 4,
      "outputs": [
        {
          "output_type": "stream",
          "text": [
            "<class 'pandas.core.frame.DataFrame'>\n",
            "RangeIndex: 13549 entries, 0 to 13548\n",
            "Data columns (total 7 columns):\n",
            " #   Column         Non-Null Count  Dtype  \n",
            "---  ------         --------------  -----  \n",
            " 0   date           13549 non-null  object \n",
            " 1   area           13549 non-null  object \n",
            " 2   average_price  13549 non-null  int64  \n",
            " 3   code           13549 non-null  object \n",
            " 4   houses_sold    13455 non-null  float64\n",
            " 5   no_of_crimes   7439 non-null   float64\n",
            " 6   borough_flag   13549 non-null  int64  \n",
            "dtypes: float64(2), int64(2), object(3)\n",
            "memory usage: 741.1+ KB\n"
          ],
          "name": "stdout"
        }
      ]
    },
    {
      "cell_type": "markdown",
      "metadata": {
        "id": "I284S-iCm1zB"
      },
      "source": [
        "### **Análise de Dados**"
      ]
    },
    {
      "cell_type": "markdown",
      "metadata": {
        "id": "g4ZoW3oqq-p5"
      },
      "source": [
        "Tamanho da base. Contém 13549 linhas e 7 colunas."
      ]
    },
    {
      "cell_type": "code",
      "metadata": {
        "colab": {
          "base_uri": "https://localhost:8080/"
        },
        "id": "3lT6GJRMmP0k",
        "outputId": "41f2b7cd-1080-47db-8d59-b36bea2c63f9"
      },
      "source": [
        "df.shape"
      ],
      "execution_count": 5,
      "outputs": [
        {
          "output_type": "execute_result",
          "data": {
            "text/plain": [
              "(13549, 7)"
            ]
          },
          "metadata": {
            "tags": []
          },
          "execution_count": 5
        }
      ]
    },
    {
      "cell_type": "markdown",
      "metadata": {
        "id": "ii0Spee3rFTp"
      },
      "source": [
        "Visão geral das séries numéricas"
      ]
    },
    {
      "cell_type": "code",
      "metadata": {
        "colab": {
          "base_uri": "https://localhost:8080/",
          "height": 297
        },
        "id": "OAUtxEe6mUoZ",
        "outputId": "1bcfb717-524f-44c6-828d-74ef5be8e23e"
      },
      "source": [
        "\n",
        "df.describe()"
      ],
      "execution_count": 38,
      "outputs": [
        {
          "output_type": "execute_result",
          "data": {
            "text/html": [
              "<div>\n",
              "<style scoped>\n",
              "    .dataframe tbody tr th:only-of-type {\n",
              "        vertical-align: middle;\n",
              "    }\n",
              "\n",
              "    .dataframe tbody tr th {\n",
              "        vertical-align: top;\n",
              "    }\n",
              "\n",
              "    .dataframe thead th {\n",
              "        text-align: right;\n",
              "    }\n",
              "</style>\n",
              "<table border=\"1\" class=\"dataframe\">\n",
              "  <thead>\n",
              "    <tr style=\"text-align: right;\">\n",
              "      <th></th>\n",
              "      <th>average_price</th>\n",
              "      <th>houses_sold</th>\n",
              "      <th>no_of_crimes</th>\n",
              "      <th>borough_flag</th>\n",
              "    </tr>\n",
              "  </thead>\n",
              "  <tbody>\n",
              "    <tr>\n",
              "      <th>count</th>\n",
              "      <td>1.354900e+04</td>\n",
              "      <td>13455.000000</td>\n",
              "      <td>7439.000000</td>\n",
              "      <td>13549.000000</td>\n",
              "    </tr>\n",
              "    <tr>\n",
              "      <th>mean</th>\n",
              "      <td>2.635197e+05</td>\n",
              "      <td>3893.994129</td>\n",
              "      <td>2158.352063</td>\n",
              "      <td>0.733338</td>\n",
              "    </tr>\n",
              "    <tr>\n",
              "      <th>std</th>\n",
              "      <td>1.876175e+05</td>\n",
              "      <td>12114.402476</td>\n",
              "      <td>902.087742</td>\n",
              "      <td>0.442230</td>\n",
              "    </tr>\n",
              "    <tr>\n",
              "      <th>min</th>\n",
              "      <td>4.072200e+04</td>\n",
              "      <td>2.000000</td>\n",
              "      <td>0.000000</td>\n",
              "      <td>0.000000</td>\n",
              "    </tr>\n",
              "    <tr>\n",
              "      <th>25%</th>\n",
              "      <td>1.323800e+05</td>\n",
              "      <td>247.000000</td>\n",
              "      <td>1623.000000</td>\n",
              "      <td>0.000000</td>\n",
              "    </tr>\n",
              "    <tr>\n",
              "      <th>50%</th>\n",
              "      <td>2.229190e+05</td>\n",
              "      <td>371.000000</td>\n",
              "      <td>2132.000000</td>\n",
              "      <td>1.000000</td>\n",
              "    </tr>\n",
              "    <tr>\n",
              "      <th>75%</th>\n",
              "      <td>3.368430e+05</td>\n",
              "      <td>3146.000000</td>\n",
              "      <td>2582.000000</td>\n",
              "      <td>1.000000</td>\n",
              "    </tr>\n",
              "    <tr>\n",
              "      <th>max</th>\n",
              "      <td>1.463378e+06</td>\n",
              "      <td>132163.000000</td>\n",
              "      <td>7461.000000</td>\n",
              "      <td>1.000000</td>\n",
              "    </tr>\n",
              "  </tbody>\n",
              "</table>\n",
              "</div>"
            ],
            "text/plain": [
              "       average_price    houses_sold  no_of_crimes  borough_flag\n",
              "count   1.354900e+04   13455.000000   7439.000000  13549.000000\n",
              "mean    2.635197e+05    3893.994129   2158.352063      0.733338\n",
              "std     1.876175e+05   12114.402476    902.087742      0.442230\n",
              "min     4.072200e+04       2.000000      0.000000      0.000000\n",
              "25%     1.323800e+05     247.000000   1623.000000      0.000000\n",
              "50%     2.229190e+05     371.000000   2132.000000      1.000000\n",
              "75%     3.368430e+05    3146.000000   2582.000000      1.000000\n",
              "max     1.463378e+06  132163.000000   7461.000000      1.000000"
            ]
          },
          "metadata": {
            "tags": []
          },
          "execution_count": 38
        }
      ]
    },
    {
      "cell_type": "markdown",
      "metadata": {
        "id": "aBLum2dOrIcI"
      },
      "source": [
        "Visualizando as primeiras observações"
      ]
    },
    {
      "cell_type": "code",
      "metadata": {
        "colab": {
          "base_uri": "https://localhost:8080/",
          "height": 204
        },
        "id": "jExLdzASm5mZ",
        "outputId": "0a362e8b-97d8-44e5-c8e7-a1c96367cc64"
      },
      "source": [
        "df.head()"
      ],
      "execution_count": 39,
      "outputs": [
        {
          "output_type": "execute_result",
          "data": {
            "text/html": [
              "<div>\n",
              "<style scoped>\n",
              "    .dataframe tbody tr th:only-of-type {\n",
              "        vertical-align: middle;\n",
              "    }\n",
              "\n",
              "    .dataframe tbody tr th {\n",
              "        vertical-align: top;\n",
              "    }\n",
              "\n",
              "    .dataframe thead th {\n",
              "        text-align: right;\n",
              "    }\n",
              "</style>\n",
              "<table border=\"1\" class=\"dataframe\">\n",
              "  <thead>\n",
              "    <tr style=\"text-align: right;\">\n",
              "      <th></th>\n",
              "      <th>date</th>\n",
              "      <th>area</th>\n",
              "      <th>average_price</th>\n",
              "      <th>code</th>\n",
              "      <th>houses_sold</th>\n",
              "      <th>no_of_crimes</th>\n",
              "      <th>borough_flag</th>\n",
              "    </tr>\n",
              "  </thead>\n",
              "  <tbody>\n",
              "    <tr>\n",
              "      <th>0</th>\n",
              "      <td>1995-01-01</td>\n",
              "      <td>city of london</td>\n",
              "      <td>91449</td>\n",
              "      <td>E09000001</td>\n",
              "      <td>17.0</td>\n",
              "      <td>NaN</td>\n",
              "      <td>1</td>\n",
              "    </tr>\n",
              "    <tr>\n",
              "      <th>1</th>\n",
              "      <td>1995-02-01</td>\n",
              "      <td>city of london</td>\n",
              "      <td>82203</td>\n",
              "      <td>E09000001</td>\n",
              "      <td>7.0</td>\n",
              "      <td>NaN</td>\n",
              "      <td>1</td>\n",
              "    </tr>\n",
              "    <tr>\n",
              "      <th>2</th>\n",
              "      <td>1995-03-01</td>\n",
              "      <td>city of london</td>\n",
              "      <td>79121</td>\n",
              "      <td>E09000001</td>\n",
              "      <td>14.0</td>\n",
              "      <td>NaN</td>\n",
              "      <td>1</td>\n",
              "    </tr>\n",
              "    <tr>\n",
              "      <th>3</th>\n",
              "      <td>1995-04-01</td>\n",
              "      <td>city of london</td>\n",
              "      <td>77101</td>\n",
              "      <td>E09000001</td>\n",
              "      <td>7.0</td>\n",
              "      <td>NaN</td>\n",
              "      <td>1</td>\n",
              "    </tr>\n",
              "    <tr>\n",
              "      <th>4</th>\n",
              "      <td>1995-05-01</td>\n",
              "      <td>city of london</td>\n",
              "      <td>84409</td>\n",
              "      <td>E09000001</td>\n",
              "      <td>10.0</td>\n",
              "      <td>NaN</td>\n",
              "      <td>1</td>\n",
              "    </tr>\n",
              "  </tbody>\n",
              "</table>\n",
              "</div>"
            ],
            "text/plain": [
              "         date            area  ...  no_of_crimes borough_flag\n",
              "0  1995-01-01  city of london  ...           NaN            1\n",
              "1  1995-02-01  city of london  ...           NaN            1\n",
              "2  1995-03-01  city of london  ...           NaN            1\n",
              "3  1995-04-01  city of london  ...           NaN            1\n",
              "4  1995-05-01  city of london  ...           NaN            1\n",
              "\n",
              "[5 rows x 7 columns]"
            ]
          },
          "metadata": {
            "tags": []
          },
          "execution_count": 39
        }
      ]
    },
    {
      "cell_type": "markdown",
      "metadata": {
        "id": "ZTgcrlNErnLY"
      },
      "source": [
        "Informações sobre cada coluna"
      ]
    },
    {
      "cell_type": "code",
      "metadata": {
        "colab": {
          "base_uri": "https://localhost:8080/"
        },
        "id": "Z8kycA-fnX1q",
        "outputId": "a3d23a64-27ce-4415-bfac-986ea90e4922"
      },
      "source": [
        "df.info()"
      ],
      "execution_count": 41,
      "outputs": [
        {
          "output_type": "stream",
          "text": [
            "<class 'pandas.core.frame.DataFrame'>\n",
            "RangeIndex: 13549 entries, 0 to 13548\n",
            "Data columns (total 7 columns):\n",
            " #   Column         Non-Null Count  Dtype  \n",
            "---  ------         --------------  -----  \n",
            " 0   date           13549 non-null  object \n",
            " 1   area           13549 non-null  object \n",
            " 2   average_price  13549 non-null  int64  \n",
            " 3   code           13549 non-null  object \n",
            " 4   houses_sold    13455 non-null  float64\n",
            " 5   no_of_crimes   7439 non-null   float64\n",
            " 6   borough_flag   13549 non-null  int64  \n",
            "dtypes: float64(2), int64(2), object(3)\n",
            "memory usage: 741.1+ KB\n"
          ],
          "name": "stdout"
        }
      ]
    },
    {
      "cell_type": "markdown",
      "metadata": {
        "id": "R5ZBnCtFrqNI"
      },
      "source": [
        "Os tipos de cada coluna"
      ]
    },
    {
      "cell_type": "code",
      "metadata": {
        "colab": {
          "base_uri": "https://localhost:8080/"
        },
        "id": "Lk8NKSQQnY_x",
        "outputId": "74d56b09-0426-4f14-8c1c-d306de917233"
      },
      "source": [
        "df.dtypes"
      ],
      "execution_count": 42,
      "outputs": [
        {
          "output_type": "execute_result",
          "data": {
            "text/plain": [
              "date              object\n",
              "area              object\n",
              "average_price      int64\n",
              "code              object\n",
              "houses_sold      float64\n",
              "no_of_crimes     float64\n",
              "borough_flag       int64\n",
              "dtype: object"
            ]
          },
          "metadata": {
            "tags": []
          },
          "execution_count": 42
        }
      ]
    },
    {
      "cell_type": "markdown",
      "metadata": {
        "id": "6F7PU6g3rtXk"
      },
      "source": [
        "Verificar valores nulos"
      ]
    },
    {
      "cell_type": "code",
      "metadata": {
        "colab": {
          "base_uri": "https://localhost:8080/"
        },
        "id": "1WWOpmK-neKo",
        "outputId": "17f0bc7a-b258-4255-c31c-2815ee750533"
      },
      "source": [
        "#A colunas 'houses_sold' e 'no_of_crimes' são as únicas que possuem valores faltantes\n",
        "df.isna().sum()"
      ],
      "execution_count": 43,
      "outputs": [
        {
          "output_type": "execute_result",
          "data": {
            "text/plain": [
              "date                0\n",
              "area                0\n",
              "average_price       0\n",
              "code                0\n",
              "houses_sold        94\n",
              "no_of_crimes     6110\n",
              "borough_flag        0\n",
              "dtype: int64"
            ]
          },
          "metadata": {
            "tags": []
          },
          "execution_count": 43
        }
      ]
    },
    {
      "cell_type": "markdown",
      "metadata": {
        "id": "gNiAG3mVsV5g"
      },
      "source": [
        "### **Trabalhando somente com casas em Londres**"
      ]
    },
    {
      "cell_type": "code",
      "metadata": {
        "id": "flSLU_4Kns7w"
      },
      "source": [
        "df2=df[df['area']=='london']['average_price']\n",
        "#criando uma nova série apenas com os preços das casas da localidade 'london'"
      ],
      "execution_count": 6,
      "outputs": []
    },
    {
      "cell_type": "markdown",
      "metadata": {
        "id": "KR3iuIGvr3eJ"
      },
      "source": [
        "### **Visualização da série temporal do preço médios das casas em Londres**"
      ]
    },
    {
      "cell_type": "code",
      "metadata": {
        "colab": {
          "base_uri": "https://localhost:8080/",
          "height": 370
        },
        "id": "tj9A9z9Bnp2A",
        "outputId": "7fb1a572-138f-49a2-aee8-f2eac78ace02"
      },
      "source": [
        "df[df['area']=='london']['average_price'].plot(figsize=(20,5))\n",
        "plt.xlabel('Datas',size=10)\n",
        "plt.ylabel('Preços',size=10)\n",
        "plt.title('Série temporal dos preços médios de casas em Londres', size=15)\n",
        "\n"
      ],
      "execution_count": 7,
      "outputs": [
        {
          "output_type": "execute_result",
          "data": {
            "text/plain": [
              "Text(0.5, 1.0, 'Série temporal dos preços médios de casas em Londres')"
            ]
          },
          "metadata": {
            "tags": []
          },
          "execution_count": 7
        },
        {
          "output_type": "display_data",
          "data": {
            "image/png": "[encoded data removed]",
            "text/plain": [
              "<Figure size 1440x360 with 1 Axes>"
            ]
          },
          "metadata": {
            "tags": [],
            "needs_background": "light"
          }
        }
      ]
    },
    {
      "cell_type": "code",
      "metadata": {
        "colab": {
          "base_uri": "https://localhost:8080/",
          "height": 376
        },
        "id": "ry8ZIX0en5zc",
        "outputId": "b0f5781e-d1e9-4b63-83db-2a8d5a10dc14"
      },
      "source": [
        "plt.figure(figsize=(15,5))\n",
        "df2.plot.hist(bins=50,grid=True,edgecolor='b').autoscale(enable=True)\n",
        "plt.xlabel('Preços Médios',size=15)\n",
        "plt.title('Distribuição do preço médio das casas em Londres', size=15)\n"
      ],
      "execution_count": 8,
      "outputs": [
        {
          "output_type": "execute_result",
          "data": {
            "text/plain": [
              "Text(0.5, 1.0, 'Distribuição do preço médio das casas em Londres')"
            ]
          },
          "metadata": {
            "tags": []
          },
          "execution_count": 8
        },
        {
          "output_type": "display_data",
          "data": {
            "image/png": "[encoded data removed]",
            "text/plain": [
              "<Figure size 1080x360 with 1 Axes>"
            ]
          },
          "metadata": {
            "tags": [],
            "needs_background": "light"
          }
        }
      ]
    },
    {
      "cell_type": "markdown",
      "metadata": {
        "id": "GH1VKzG4tKDp"
      },
      "source": [
        "### **Comparando com o preço de demais localidades**"
      ]
    },
    {
      "cell_type": "code",
      "metadata": {
        "colab": {
          "base_uri": "https://localhost:8080/",
          "height": 608
        },
        "id": "tmiO9OkFn_R4",
        "outputId": "27d80340-982e-48a7-a26e-3d5f1c51c439"
      },
      "source": [
        "df.groupby('area')['average_price'].mean().sort_values().plot(kind='barh',figsize=(40,20),color='green')\n",
        "plt.xticks(size=25)\n",
        "plt.yticks(size=25)\n",
        "plt.xlabel('Localidades',size=25)\n",
        "plt.title('Comparando o preço médio das casas em Londres com demais localidades', size=35)\n"
      ],
      "execution_count": 9,
      "outputs": [
        {
          "output_type": "execute_result",
          "data": {
            "text/plain": [
              "Text(0.5, 1.0, 'Comparando o preço médio das casas em Londres com demais localidades')"
            ]
          },
          "metadata": {
            "tags": []
          },
          "execution_count": 9
        },
        {
          "output_type": "display_data",
          "data": {
            "image/png": "[encoded data removed]",
            "text/plain": [
              "<Figure size 2880x1440 with 1 Axes>"
            ]
          },
          "metadata": {
            "tags": [],
            "needs_background": "light"
          }
        }
      ]
    },
    {
      "cell_type": "markdown",
      "metadata": {
        "id": "k4R7CqrGoG0i"
      },
      "source": [
        "### **Separando Dados Treino e Teste**"
      ]
    },
    {
      "cell_type": "markdown",
      "metadata": {
        "id": "FdVl1yBruQs_"
      },
      "source": [
        "Aqui iremos separar as 30 observações finais como dados de teste, ou seja, usaremos esses dados para comparar com as previsões que os algoritmos de suavização exponencial gerarão. As outras 270 observações seão usadas para treinar os algoritmos."
      ]
    },
    {
      "cell_type": "code",
      "metadata": {
        "colab": {
          "base_uri": "https://localhost:8080/"
        },
        "id": "EHGdle2loKyZ",
        "outputId": "353647e1-5144-4d30-95df-4d5425290cfb"
      },
      "source": [
        "#definindo os dados de treino\n",
        "df_treino=df2.iloc[:-30]\n",
        "df_treino"
      ],
      "execution_count": 10,
      "outputs": [
        {
          "output_type": "execute_result",
          "data": {
            "text/plain": [
              "12346     74436\n",
              "12347     72778\n",
              "12348     73897\n",
              "12349     74455\n",
              "12350     75432\n",
              "          ...  \n",
              "12612    475442\n",
              "12613    479790\n",
              "12614    480902\n",
              "12615    480152\n",
              "12616    488527\n",
              "Name: average_price, Length: 271, dtype: int64"
            ]
          },
          "metadata": {
            "tags": []
          },
          "execution_count": 10
        }
      ]
    },
    {
      "cell_type": "code",
      "metadata": {
        "colab": {
          "base_uri": "https://localhost:8080/"
        },
        "id": "2ezxxWPsoQTq",
        "outputId": "3d331ab7-0bb3-4e18-95f4-5ab2cb8e4784"
      },
      "source": [
        "#definindo os dados de teste\n",
        "df_teste=df2.iloc[-30:]\n",
        "df_teste"
      ],
      "execution_count": 11,
      "outputs": [
        {
          "output_type": "execute_result",
          "data": {
            "text/plain": [
              "12617    487085\n",
              "12618    483833\n",
              "12619    481762\n",
              "12620    476290\n",
              "12621    476848\n",
              "12622    479772\n",
              "12623    477860\n",
              "12624    472357\n",
              "12625    477253\n",
              "12626    478485\n",
              "12627    479931\n",
              "12628    484724\n",
              "12629    479550\n",
              "12630    476545\n",
              "12631    479775\n",
              "12632    474551\n",
              "12633    473454\n",
              "12634    470067\n",
              "12635    466500\n",
              "12636    464818\n",
              "12637    470092\n",
              "12638    463976\n",
              "12639    471053\n",
              "12640    478348\n",
              "12641    473390\n",
              "12642    477727\n",
              "12643    474318\n",
              "12644    469422\n",
              "12645    481710\n",
              "12646    476588\n",
              "Name: average_price, dtype: int64"
            ]
          },
          "metadata": {
            "tags": []
          },
          "execution_count": 11
        }
      ]
    },
    {
      "cell_type": "code",
      "metadata": {
        "colab": {
          "base_uri": "https://localhost:8080/",
          "height": 367
        },
        "id": "0j-bWSivoZuw",
        "outputId": "460909de-b475-411d-c9b6-fb1835ac6edf"
      },
      "source": [
        "df_treino.plot(figsize=(15,5),color='blue')\n",
        "df_teste.plot(color='black')\n",
        "plt.title(\"Dados de teste e treino\")\n",
        "plt.xlabel('Datas')\n"
      ],
      "execution_count": 12,
      "outputs": [
        {
          "output_type": "execute_result",
          "data": {
            "text/plain": [
              "Text(0.5, 0, 'Datas')"
            ]
          },
          "metadata": {
            "tags": []
          },
          "execution_count": 12
        },
        {
          "output_type": "display_data",
          "data": {
            "image/png": "[encoded data removed]",
            "text/plain": [
              "<Figure size 1080x360 with 1 Axes>"
            ]
          },
          "metadata": {
            "tags": [],
            "needs_background": "light"
          }
        }
      ]
    },
    {
      "cell_type": "markdown",
      "metadata": {
        "id": "uEvBrljWvXOP"
      },
      "source": [
        "### **Algoritmo de Suavização Simples**"
      ]
    },
    {
      "cell_type": "markdown",
      "metadata": {
        "id": "FwWqqELVHWE4"
      },
      "source": [
        "A SES(Suavização Exponencial Simples) é uma boa escolha para dados de previsão sem tendência clara ou padrão sazonal. As previsões são calculadas usando médias ponderadas, o que significa que os maiores pesos estão associados às observações mais recentes, enquanto os menores pesos estão associados às observações mais antigas. Esse peso é dado através de α um parâmetro de suavização que varia de 0 a 1. Aqui, executamos duas variantes de suavização exponencial simples:\n",
        "\n",
        "\n",
        "\n",
        "*   Em fit1, fornecemos explicitamente o modelo com o parâmetro de suavização α = 0,2.\n",
        "*   Em fit2, nós escolhemos um α = 0,6\n",
        "\n",
        "\n"
      ]
    },
    {
      "cell_type": "code",
      "metadata": {
        "colab": {
          "base_uri": "https://localhost:8080/"
        },
        "id": "ftsq-K5GBcWI",
        "outputId": "c99e7eea-372b-43eb-d744-18e3349f8b78"
      },
      "source": [
        "# Simple Exponential Smoothing alpha = 0.2\n",
        "fit1 = SimpleExpSmoothing(df_treino).fit(smoothing_level=0.2,optimized=True)\n",
        "#gerando as previsões para alpha igual a 0,2\n",
        "fit1=fit1.forecast(len(df_teste))\n",
        "fit1\n"
      ],
      "execution_count": 59,
      "outputs": [
        {
          "output_type": "stream",
          "text": [
            "/usr/local/lib/python3.7/dist-packages/statsmodels/tsa/base/tsa_model.py:215: ValueWarning: An unsupported index was provided and will be ignored when e.g. forecasting.\n",
            "  ' ignored when e.g. forecasting.', ValueWarning)\n",
            "/usr/local/lib/python3.7/dist-packages/statsmodels/tsa/base/tsa_model.py:576: ValueWarning: No supported index is available. Prediction results will be given with an integer index beginning at `start`.\n",
            "  ValueWarning)\n"
          ],
          "name": "stderr"
        },
        {
          "output_type": "execute_result",
          "data": {
            "text/plain": [
              "271    478447.056703\n",
              "272    478447.056703\n",
              "273    478447.056703\n",
              "274    478447.056703\n",
              "275    478447.056703\n",
              "276    478447.056703\n",
              "277    478447.056703\n",
              "278    478447.056703\n",
              "279    478447.056703\n",
              "280    478447.056703\n",
              "281    478447.056703\n",
              "282    478447.056703\n",
              "283    478447.056703\n",
              "284    478447.056703\n",
              "285    478447.056703\n",
              "286    478447.056703\n",
              "287    478447.056703\n",
              "288    478447.056703\n",
              "289    478447.056703\n",
              "290    478447.056703\n",
              "291    478447.056703\n",
              "292    478447.056703\n",
              "293    478447.056703\n",
              "294    478447.056703\n",
              "295    478447.056703\n",
              "296    478447.056703\n",
              "297    478447.056703\n",
              "298    478447.056703\n",
              "299    478447.056703\n",
              "300    478447.056703\n",
              "dtype: float64"
            ]
          },
          "metadata": {
            "tags": []
          },
          "execution_count": 59
        }
      ]
    },
    {
      "cell_type": "code",
      "metadata": {
        "colab": {
          "base_uri": "https://localhost:8080/"
        },
        "id": "O8Oam9KGqnGD",
        "outputId": "cda6bdbc-7178-452b-b91f-a4176ac77194"
      },
      "source": [
        "# Simple Exponential Smoothing alpha = 0.6\n",
        "fit2=SimpleExpSmoothing(df_treino).fit(smoothing_level=0.6,optimized=True)\n",
        "#gerando as previsões para alpha igual a 0,6\n",
        "fit2=fit2.forecast(len(df_teste))\n",
        "fit2"
      ],
      "execution_count": 60,
      "outputs": [
        {
          "output_type": "stream",
          "text": [
            "/usr/local/lib/python3.7/dist-packages/statsmodels/tsa/base/tsa_model.py:215: ValueWarning: An unsupported index was provided and will be ignored when e.g. forecasting.\n",
            "  ' ignored when e.g. forecasting.', ValueWarning)\n",
            "/usr/local/lib/python3.7/dist-packages/statsmodels/tsa/base/tsa_model.py:576: ValueWarning: No supported index is available. Prediction results will be given with an integer index beginning at `start`.\n",
            "  ValueWarning)\n"
          ],
          "name": "stderr"
        },
        {
          "output_type": "execute_result",
          "data": {
            "text/plain": [
              "271    485116.898637\n",
              "272    485116.898637\n",
              "273    485116.898637\n",
              "274    485116.898637\n",
              "275    485116.898637\n",
              "276    485116.898637\n",
              "277    485116.898637\n",
              "278    485116.898637\n",
              "279    485116.898637\n",
              "280    485116.898637\n",
              "281    485116.898637\n",
              "282    485116.898637\n",
              "283    485116.898637\n",
              "284    485116.898637\n",
              "285    485116.898637\n",
              "286    485116.898637\n",
              "287    485116.898637\n",
              "288    485116.898637\n",
              "289    485116.898637\n",
              "290    485116.898637\n",
              "291    485116.898637\n",
              "292    485116.898637\n",
              "293    485116.898637\n",
              "294    485116.898637\n",
              "295    485116.898637\n",
              "296    485116.898637\n",
              "297    485116.898637\n",
              "298    485116.898637\n",
              "299    485116.898637\n",
              "300    485116.898637\n",
              "dtype: float64"
            ]
          },
          "metadata": {
            "tags": []
          },
          "execution_count": 60
        }
      ]
    },
    {
      "cell_type": "code",
      "metadata": {
        "colab": {
          "base_uri": "https://localhost:8080/"
        },
        "id": "rOC3tBDOwule",
        "outputId": "b41be842-40d5-4690-9631-9b110bd4bc62"
      },
      "source": [
        "print('Métricas do Algoritmo de Suavização Simple alpha = 0,2')\n",
        "print('Erro médio absoluto(MAE) do Algoritmo de Suavização Simples :',round(mean_absolute_error(df_teste,fit1),3))\n",
        "print('Raiz do erro médio quadrado(RMSE) do Algoritmo de Suavização Simples :',round(mean_squared_error(df_teste,fit1)**0.5,3))"
      ],
      "execution_count": 61,
      "outputs": [
        {
          "output_type": "stream",
          "text": [
            "Métricas do Algoritmo de Suavização Simple alpha = 0,2\n",
            "Erro médio absoluto(MAE) do Algoritmo de Suavização Simples : 4654.686\n",
            "Raiz do erro médio quadrado(RMSE) do Algoritmo de Suavização Simples : 6115.696\n"
          ],
          "name": "stdout"
        }
      ]
    },
    {
      "cell_type": "code",
      "metadata": {
        "colab": {
          "base_uri": "https://localhost:8080/"
        },
        "id": "EBRj_XM2DWkO",
        "outputId": "2641e066-13c5-4811-e909-8534a1a4b4b3"
      },
      "source": [
        "print('Métricas do Algoritmo de Suavização Simple alpha = 0,6')\n",
        "print('Erro médio absoluto(MAE) do Algoritmo de Suavização Simples :',round(mean_absolute_error(df_teste,fit2),3))\n",
        "print('Raiz do erro médio quadrado(RMSE) do Algoritmo de Suavização Simples :',round(mean_squared_error(df_teste,fit2)**0.5,3))"
      ],
      "execution_count": 62,
      "outputs": [
        {
          "output_type": "stream",
          "text": [
            "Métricas do Algoritmo de Suavização Simple alpha = 0,6\n",
            "Erro médio absoluto(MAE) do Algoritmo de Suavização Simples : 9311.972\n",
            "Raiz do erro médio quadrado(RMSE) do Algoritmo de Suavização Simples : 10741.669\n"
          ],
          "name": "stdout"
        }
      ]
    },
    {
      "cell_type": "markdown",
      "metadata": {
        "id": "DeQTzCcMwBKP"
      },
      "source": [
        "### **Algoritmo de Suavização Holt**"
      ]
    },
    {
      "cell_type": "markdown",
      "metadata": {
        "id": "ko1k71gWICi4"
      },
      "source": [
        "O método de Holt envolve uma equação de previsão e duas equações de suavização (uma para o nível e outra para a tendência ). Para as previsões de longo prazo, a previsão com o método de Holt aumentará ou diminuirá indefinidamente no futuro. \n"
      ]
    },
    {
      "cell_type": "code",
      "metadata": {
        "colab": {
          "base_uri": "https://localhost:8080/"
        },
        "id": "NR4nfmfxqudI",
        "outputId": "e0d7333c-deeb-4b43-9d42-7b3246a390cb"
      },
      "source": [
        "#Treinando o modelo\n",
        "modelo1=Holt(df_treino).fit(smoothing_level=0.7187)\n",
        "#gerando as previsões\n",
        "modelo1=modelo1.forecast(len(df_teste))\n",
        "modelo1"
      ],
      "execution_count": 63,
      "outputs": [
        {
          "output_type": "stream",
          "text": [
            "/usr/local/lib/python3.7/dist-packages/statsmodels/tsa/base/tsa_model.py:215: ValueWarning: An unsupported index was provided and will be ignored when e.g. forecasting.\n",
            "  ' ignored when e.g. forecasting.', ValueWarning)\n",
            "/usr/local/lib/python3.7/dist-packages/statsmodels/tsa/base/tsa_model.py:576: ValueWarning: No supported index is available. Prediction results will be given with an integer index beginning at `start`.\n",
            "  ValueWarning)\n"
          ],
          "name": "stderr"
        },
        {
          "output_type": "execute_result",
          "data": {
            "text/plain": [
              "271    490026.197155\n",
              "272    493436.605481\n",
              "273    496847.013808\n",
              "274    500257.422135\n",
              "275    503667.830461\n",
              "276    507078.238788\n",
              "277    510488.647114\n",
              "278    513899.055441\n",
              "279    517309.463767\n",
              "280    520719.872094\n",
              "281    524130.280420\n",
              "282    527540.688747\n",
              "283    530951.097073\n",
              "284    534361.505400\n",
              "285    537771.913727\n",
              "286    541182.322053\n",
              "287    544592.730380\n",
              "288    548003.138706\n",
              "289    551413.547033\n",
              "290    554823.955359\n",
              "291    558234.363686\n",
              "292    561644.772012\n",
              "293    565055.180339\n",
              "294    568465.588666\n",
              "295    571875.996992\n",
              "296    575286.405319\n",
              "297    578696.813645\n",
              "298    582107.221972\n",
              "299    585517.630298\n",
              "300    588928.038625\n",
              "dtype: float64"
            ]
          },
          "metadata": {
            "tags": []
          },
          "execution_count": 63
        }
      ]
    },
    {
      "cell_type": "code",
      "metadata": {
        "colab": {
          "base_uri": "https://localhost:8080/"
        },
        "id": "JOjUe1jUxGqQ",
        "outputId": "324e144b-c0d4-4f23-8d0e-2b1d9e9f41c6"
      },
      "source": [
        "print('Métricas do Algoritmo de Suavização de Holt')\n",
        "print('Erro médio absoluto(MAE) do Algoritmo de Suavização Holt:',round(mean_absolute_error(df_teste,modelo1),3))\n",
        "print('Raiz do erro médio quadrado(RMSE) do Algoritmo de Suavização',round(mean_squared_error(df_teste,modelo1)**0.5,3))"
      ],
      "execution_count": 64,
      "outputs": [
        {
          "output_type": "stream",
          "text": [
            "Métricas do Algoritmo de Suavização de Holt\n",
            "Erro médio absoluto(MAE) do Algoritmo de Suavização Holt: 63540.985\n",
            "Raiz do erro médio quadrado(RMSE) do Algoritmo de Suavização 71423.632\n"
          ],
          "name": "stdout"
        }
      ]
    },
    {
      "cell_type": "code",
      "metadata": {
        "colab": {
          "base_uri": "https://localhost:8080/"
        },
        "id": "OBrwcSnqqyLY",
        "outputId": "494dce33-ec54-4429-8643-f9a31495152a"
      },
      "source": [
        "#Treinando o modelo\n",
        "model2=Holt(df_treino).fit(smoothing_level=0.2)\n",
        "#gerando as previsões\n",
        "modelo2=model2.forecast(len(df_teste))\n",
        "modelo2"
      ],
      "execution_count": 65,
      "outputs": [
        {
          "output_type": "stream",
          "text": [
            "/usr/local/lib/python3.7/dist-packages/statsmodels/tsa/base/tsa_model.py:215: ValueWarning: An unsupported index was provided and will be ignored when e.g. forecasting.\n",
            "  ' ignored when e.g. forecasting.', ValueWarning)\n",
            "/usr/local/lib/python3.7/dist-packages/statsmodels/tsa/holtwinters.py:712: ConvergenceWarning: Optimization failed to converge. Check mle_retvals.\n",
            "  ConvergenceWarning)\n",
            "/usr/local/lib/python3.7/dist-packages/statsmodels/tsa/base/tsa_model.py:576: ValueWarning: No supported index is available. Prediction results will be given with an integer index beginning at `start`.\n",
            "  ValueWarning)\n"
          ],
          "name": "stderr"
        },
        {
          "output_type": "execute_result",
          "data": {
            "text/plain": [
              "271    485284.862842\n",
              "272    486209.835516\n",
              "273    487134.808190\n",
              "274    488059.780863\n",
              "275    488984.753537\n",
              "276    489909.726211\n",
              "277    490834.698885\n",
              "278    491759.671558\n",
              "279    492684.644232\n",
              "280    493609.616906\n",
              "281    494534.589580\n",
              "282    495459.562254\n",
              "283    496384.534927\n",
              "284    497309.507601\n",
              "285    498234.480275\n",
              "286    499159.452949\n",
              "287    500084.425623\n",
              "288    501009.398296\n",
              "289    501934.370970\n",
              "290    502859.343644\n",
              "291    503784.316318\n",
              "292    504709.288992\n",
              "293    505634.261665\n",
              "294    506559.234339\n",
              "295    507484.207013\n",
              "296    508409.179687\n",
              "297    509334.152361\n",
              "298    510259.125034\n",
              "299    511184.097708\n",
              "300    512109.070382\n",
              "dtype: float64"
            ]
          },
          "metadata": {
            "tags": []
          },
          "execution_count": 65
        }
      ]
    },
    {
      "cell_type": "code",
      "metadata": {
        "colab": {
          "base_uri": "https://localhost:8080/"
        },
        "id": "9LXsG7kGDvH1",
        "outputId": "877d2314-b31a-40e4-d4f9-958e770521af"
      },
      "source": [
        "print('Métricas do Algoritmo de Suavização de Holt')\n",
        "print('Erro médio absoluto(MAE) do Algoritmo de Suavização Holt:',round(mean_absolute_error(df_teste,modelo2),3))\n",
        "print('Raiz do erro médio quadrado(RMSE) do Algoritmo de Suavização',round(mean_squared_error(df_teste,modelo2)**0.5,3))"
      ],
      "execution_count": 66,
      "outputs": [
        {
          "output_type": "stream",
          "text": [
            "Métricas do Algoritmo de Suavização de Holt\n",
            "Erro médio absoluto(MAE) do Algoritmo de Suavização Holt: 22880.842\n",
            "Raiz do erro médio quadrado(RMSE) do Algoritmo de Suavização 25632.667\n"
          ],
          "name": "stdout"
        }
      ]
    },
    {
      "cell_type": "markdown",
      "metadata": {
        "id": "-Jnhcc2FIkoB"
      },
      "source": [
        "### **Algoritmo de Suavização Holt-Winter**"
      ]
    },
    {
      "cell_type": "markdown",
      "metadata": {
        "id": "03PNrvtuIUdc"
      },
      "source": [
        "O método de Holt-Winters é adequado para dados com tendências e sazonalidades que incluem um parâmetro de suavização de sazonalidade γ. Existem duas variações para este método:\n",
        "\n",
        "*   Método aditivo: as variações sazonais são aproximadamente constantes ao longo da série.\n",
        "\n",
        "*   Método multiplicativo: as variações sazonais estão mudando proporcionalmente ao nível da série."
      ]
    },
    {
      "cell_type": "markdown",
      "metadata": {
        "id": "nQEELzRIwQd4"
      },
      "source": [
        "### **Algoritmo de Suavização Holt-Winter Aditivo**"
      ]
    },
    {
      "cell_type": "code",
      "metadata": {
        "colab": {
          "base_uri": "https://localhost:8080/"
        },
        "id": "lTVr4WB2wEy_",
        "outputId": "f843c9d0-1a1d-412e-a7e9-80d16c00e7ca"
      },
      "source": [
        "#treinando o algoritmo de suavização Holt-Winters aditivo\n",
        "add = ExponentialSmoothing(df_teste, seasonal_periods=4, trend='add', seasonal='add').fit(use_boxcox=True)\n",
        "#gerando as previsões\n",
        "add=add.forecast(len(df_teste))\n",
        "add"
      ],
      "execution_count": 67,
      "outputs": [
        {
          "output_type": "stream",
          "text": [
            "/usr/local/lib/python3.7/dist-packages/statsmodels/tsa/base/tsa_model.py:215: ValueWarning: An unsupported index was provided and will be ignored when e.g. forecasting.\n",
            "  ' ignored when e.g. forecasting.', ValueWarning)\n",
            "/usr/local/lib/python3.7/dist-packages/statsmodels/tsa/holtwinters.py:712: ConvergenceWarning: Optimization failed to converge. Check mle_retvals.\n",
            "  ConvergenceWarning)\n",
            "/usr/local/lib/python3.7/dist-packages/statsmodels/tsa/base/tsa_model.py:576: ValueWarning: No supported index is available. Prediction results will be given with an integer index beginning at `start`.\n",
            "  ValueWarning)\n"
          ],
          "name": "stderr"
        },
        {
          "output_type": "execute_result",
          "data": {
            "text/plain": [
              "30    476118.018943\n",
              "31    475382.582772\n",
              "32    479183.782137\n",
              "33    476162.885605\n",
              "34    476092.347666\n",
              "35    475356.501109\n",
              "36    479159.746854\n",
              "37    476137.239134\n",
              "38    476066.662184\n",
              "39    475330.404760\n",
              "40    479135.699199\n",
              "41    476111.578487\n",
              "42    476040.962481\n",
              "43    475304.293708\n",
              "44    479111.639158\n",
              "45    476085.903648\n",
              "46    476015.248539\n",
              "47    475278.167936\n",
              "48    479087.566719\n",
              "49    476060.214599\n",
              "50    475989.520343\n",
              "51    475252.027425\n",
              "52    479063.481867\n",
              "53    476034.511324\n",
              "54    475963.777876\n",
              "55    475225.872160\n",
              "56    479039.384590\n",
              "57    476008.793807\n",
              "58    475938.021121\n",
              "59    475199.702122\n",
              "dtype: float64"
            ]
          },
          "metadata": {
            "tags": []
          },
          "execution_count": 67
        }
      ]
    },
    {
      "cell_type": "code",
      "metadata": {
        "colab": {
          "base_uri": "https://localhost:8080/"
        },
        "id": "xlP9OaGfFiMF",
        "outputId": "4f25e282-0df7-4116-a307-f6bbc9ec2985"
      },
      "source": [
        "print('Métricas do Algoritmo de Suavização de Holt-Winter Aditivo')\n",
        "print('Erro médio absoluto(MAE) do Algoritmo de Suavização Holt-Winter Aditivo:',round(mean_absolute_error(df_teste,add),3))\n",
        "print('Raiz do erro médio quadrado(RMSE) do Algoritmo de Suavização Holt-Winter Aditivo:',round(mean_squared_error(df_teste,add)**0.5,3))"
      ],
      "execution_count": 68,
      "outputs": [
        {
          "output_type": "stream",
          "text": [
            "Métricas do Algoritmo de Suavização de Holt-Winter Aditivo\n",
            "Erro médio absoluto(MAE) do Algoritmo de Suavização Holt-Winter Aditivo: 4523.787\n",
            "Raiz do erro médio quadrado(RMSE) do Algoritmo de Suavização Holt-Winter Aditivo: 5776.415\n"
          ],
          "name": "stdout"
        }
      ]
    },
    {
      "cell_type": "markdown",
      "metadata": {
        "id": "iTjpfno7Fc4B"
      },
      "source": [
        "### **Algoritmo de Suavização Holt-Winter Multiplicativo**"
      ]
    },
    {
      "cell_type": "code",
      "metadata": {
        "colab": {
          "base_uri": "https://localhost:8080/"
        },
        "id": "rwMgtfl1wfhp",
        "outputId": "52095d34-aa40-4701-fa45-07af25c18f15"
      },
      "source": [
        "#treinando o algoritmo de suavização Holt-Winters aditivo\n",
        "mul = ExponentialSmoothing(df_teste, seasonal_periods=4, trend='add', seasonal='mul').fit(use_boxcox=True)\n",
        "#gerando as previsões\n",
        "mul=mul.forecast(len(df_teste))\n",
        "mul"
      ],
      "execution_count": 69,
      "outputs": [
        {
          "output_type": "stream",
          "text": [
            "/usr/local/lib/python3.7/dist-packages/statsmodels/tsa/base/tsa_model.py:215: ValueWarning: An unsupported index was provided and will be ignored when e.g. forecasting.\n",
            "  ' ignored when e.g. forecasting.', ValueWarning)\n",
            "/usr/local/lib/python3.7/dist-packages/statsmodels/tsa/base/tsa_model.py:576: ValueWarning: No supported index is available. Prediction results will be given with an integer index beginning at `start`.\n",
            "  ValueWarning)\n"
          ],
          "name": "stderr"
        },
        {
          "output_type": "execute_result",
          "data": {
            "text/plain": [
              "30    476839.755639\n",
              "31    476598.443589\n",
              "32    479272.424807\n",
              "33    476926.400178\n",
              "34    477640.173417\n",
              "35    477394.694902\n",
              "36    480069.396430\n",
              "37    477715.776626\n",
              "38    478427.066009\n",
              "39    478177.553529\n",
              "40    480853.024831\n",
              "41    478491.997450\n",
              "42    479200.904070\n",
              "43    478947.483402\n",
              "44    481623.770147\n",
              "45    479255.514280\n",
              "46    479962.133756\n",
              "47    479704.924412\n",
              "48    482382.068770\n",
              "49    480006.755543\n",
              "50    480711.178403\n",
              "51    480450.294047\n",
              "52    483128.334968\n",
              "53    480746.128041\n",
              "54    481448.440067\n",
              "55    481183.988903\n",
              "56    483862.962365\n",
              "57    481474.018388\n",
              "58    482174.300942\n",
              "59    481906.386062\n",
              "dtype: float64"
            ]
          },
          "metadata": {
            "tags": []
          },
          "execution_count": 69
        }
      ]
    },
    {
      "cell_type": "code",
      "metadata": {
        "colab": {
          "base_uri": "https://localhost:8080/"
        },
        "id": "PQnMXeQDFvZs",
        "outputId": "b34c2b11-6a70-4f69-eaf5-013e2af19a4a"
      },
      "source": [
        "print('Métricas do Algoritmo de Suavização de Holt-Winter Multiplicativo')\n",
        "print('Erro médio absoluto(MAE) do Algoritmo de Suavização Holt-Winter Multiplicativo:',round(mean_absolute_error(df_teste,mul),3))\n",
        "print('Raiz do erro médio quadrado(RMSE) do Algoritmo de Suavização Holt-Winter Multiplicativo:',round(mean_squared_error(df_teste,mul)**0.5,3))"
      ],
      "execution_count": 70,
      "outputs": [
        {
          "output_type": "stream",
          "text": [
            "Métricas do Algoritmo de Suavização de Holt-Winter Multiplicativo\n",
            "Erro médio absoluto(MAE) do Algoritmo de Suavização Holt-Winter Multiplicativo: 5898.758\n",
            "Raiz do erro médio quadrado(RMSE) do Algoritmo de Suavização Holt-Winter Multiplicativo: 7685.602\n"
          ],
          "name": "stdout"
        }
      ]
    }
  ]
}